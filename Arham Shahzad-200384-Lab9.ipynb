{
 "cells": [
  {
   "cell_type": "code",
   "execution_count": 1,
   "id": "f9add3d6",
   "metadata": {},
   "outputs": [
    {
     "name": "stdout",
     "output_type": "stream",
     "text": [
      "{'emp1': {'name': 'Jhon', 'salary': 7500}, 'emp2': {'name': 'Emma', 'salary': 8000}, 'emp3': {'name': 'Brad', 'salary': 8500}}\n"
     ]
    }
   ],
   "source": [
    "#task 1\n",
    "sample_dict ={\n",
    "'emp1': {'name': 'Jhon','salary': 7500},'emp2': {'name': 'Emma','salary': 8000},'emp3': {'name': 'Brad','salary': 500}}\n",
    "sample_dict['emp3']['salary']=8500\n",
    "\n",
    "print(sample_dict)"
   ]
  },
  {
   "cell_type": "code",
   "execution_count": 2,
   "id": "63c02e35",
   "metadata": {},
   "outputs": [
    {
     "name": "stdout",
     "output_type": "stream",
     "text": [
      "history\n"
     ]
    }
   ],
   "source": [
    "#task 2\n",
    "sample_dict = {\n",
    "'Physics': 82,\n",
    "'Math': 90,\n",
    "'history': 75\n",
    "}\n",
    "y= min(sample_dict,key=sample_dict.get)\n",
    "print(y)"
   ]
  },
  {
   "cell_type": "code",
   "execution_count": 3,
   "id": "f072ff0e",
   "metadata": {},
   "outputs": [
    {
     "name": "stdout",
     "output_type": "stream",
     "text": [
      "{'name': 'ARHAM', 'age': 20, 'salary': 80000, 'location': 'PINDI'}\n"
     ]
    }
   ],
   "source": [
    "#TASK 3\n",
    "\n",
    "sample_dict = {\n",
    "\"name\": \"ARHAM\",\n",
    "\"age\":20,\n",
    "\"salary\": 80000,\n",
    "\"city\": \"PINDI\"\n",
    "}\n",
    "sample_dict['location'] = sample_dict. pop('city')\n",
    "print(sample_dict)\n"
   ]
  },
  {
   "cell_type": "code",
   "execution_count": 4,
   "id": "88289037",
   "metadata": {},
   "outputs": [
    {
     "name": "stdout",
     "output_type": "stream",
     "text": [
      "value exists\n"
     ]
    }
   ],
   "source": [
    "\n",
    "#TASK 4\n",
    "\n",
    "sample_dict = {'a': 100,\n",
    "'b': 200,\n",
    "'c': 300}\n",
    "for key in sample_dict.keys():\n",
    "    if(200==sample_dict[key]):\n",
    "        f=True\n",
    "if(f):\n",
    "    print('value exists')\n",
    "else:\n",
    "    print(\"value not found\")"
   ]
  },
  {
   "cell_type": "code",
   "execution_count": 5,
   "id": "886a7632",
   "metadata": {},
   "outputs": [
    {
     "name": "stdout",
     "output_type": "stream",
     "text": [
      "{'name': 'ARHAM', 'age': 20}\n"
     ]
    }
   ],
   "source": [
    "#TASK 5\n",
    "\n",
    "sample_dict = {\n",
    "\"name\": \"ARHAM\",\n",
    "\"age\": 20,\n",
    "\"salary\": 80000,\n",
    "\"city\": \"PINDI\"\n",
    "}\n",
    "sample_dict.pop('salary')\n",
    "sample_dict.pop('city')\n",
    "print(sample_dict)"
   ]
  },
  {
   "cell_type": "code",
   "execution_count": 6,
   "id": "4848e6ca",
   "metadata": {},
   "outputs": [
    {
     "name": "stdout",
     "output_type": "stream",
     "text": [
      "Enter  name a1\n",
      "Enter  Id no 1\n",
      "Enter gpa 2\n",
      "Enter  name a2\n",
      "Enter  Id no 2\n",
      "Enter gpa 2.2\n",
      "Enter  name a3\n",
      "Enter  Id no 3\n",
      "Enter gpa 2.3\n",
      "Enter  name a4\n",
      "Enter  Id no 4\n",
      "Enter gpa 3.2\n",
      "Enter  name a5\n",
      "Enter  Id no 5\n",
      "Enter gpa 4\n",
      "{('student no ', 0): {'name': 'a5', 'id': '5', 'gpa': '4'}, ('student no ', 1): {'name': 'a5', 'id': '5', 'gpa': '4'}, ('student no ', 2): {'name': 'a5', 'id': '5', 'gpa': '4'}, ('student no ', 3): {'name': 'a5', 'id': '5', 'gpa': '4'}, ('student no ', 4): {'name': 'a5', 'id': '5', 'gpa': '4'}}\n"
     ]
    }
   ],
   "source": [
    "\n",
    "#TASK 6\n",
    "\n",
    "f={}\n",
    "sample_dict={}\n",
    "for x in range (0,5,1):\n",
    "    a=input('Enter  name ')\n",
    "    b=input('Enter  Id no ')\n",
    "    c= input('Enter gpa ')\n",
    "    f['name']=a\n",
    "    f['id']=b\n",
    "    f['gpa']=c\n",
    "    sample_dict['student no ',x]=f\n",
    "print(sample_dict)\n"
   ]
  },
  {
   "cell_type": "code",
   "execution_count": 7,
   "id": "ac0e28d1",
   "metadata": {},
   "outputs": [
    {
     "name": "stdout",
     "output_type": "stream",
     "text": [
      "values\n",
      "\n",
      "ARHAM\n",
      "75000\n",
      "AYESHA\n",
      "7000\n",
      "ALI\n",
      "5600\n",
      "\n",
      "keys\n",
      "\n",
      "emp1  \n",
      "name  \n",
      "salary  \n",
      "emp2  \n",
      "name  \n",
      "salary  \n",
      "emp3  \n",
      "name  \n",
      "salary  \n",
      "\n",
      "key value pair \n",
      "\n",
      "emp1  \n",
      "name   ARHAM\n",
      "salary   75000\n",
      "emp2  \n",
      "name   AYESHA\n",
      "salary   7000\n",
      "emp3  \n",
      "name   ALI\n",
      "salary   5600\n"
     ]
    }
   ],
   "source": [
    "#TASK 7\n",
    "\n",
    "g={}\n",
    "print('values\\n')\n",
    "sample_dict ={'emp1':{'name':'ARHAM','salary': 75000},'emp2':{'name':'AYESHA','salary':7000},'emp3':{'name':'ALI','salary':5600}} \n",
    "for key in sample_dict.keys():\n",
    "    g=sample_dict[key]\n",
    "    for a in g.keys():\n",
    "        print(g[a])\n",
    "print('\\nkeys\\n') \n",
    "for key in sample_dict.keys():\n",
    "    g=sample_dict[key]\n",
    "    print(key,\" \")\n",
    "    for a in g.keys():\n",
    "        print(a,\" \")\n",
    "print('\\nkey value pair \\n')\n",
    "for key in sample_dict.keys():\n",
    "    g=sample_dict[key] \n",
    "    print(key,\" \") \n",
    "    for a in g.keys(): \n",
    "        print(a,\" \",g[a])"
   ]
  }
 ],
 "metadata": {
  "kernelspec": {
   "display_name": "Python 3 (ipykernel)",
   "language": "python",
   "name": "python3"
  },
  "language_info": {
   "codemirror_mode": {
    "name": "ipython",
    "version": 3
   },
   "file_extension": ".py",
   "mimetype": "text/x-python",
   "name": "python",
   "nbconvert_exporter": "python",
   "pygments_lexer": "ipython3",
   "version": "3.9.7"
  }
 },
 "nbformat": 4,
 "nbformat_minor": 5
}
